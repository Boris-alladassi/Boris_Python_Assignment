{
 "cells": [
  {
   "cell_type": "markdown",
   "metadata": {},
   "source": [
    "### Boris Alladassi \n",
    "### BCB 546X Python Assignment\n",
    "Date: November 25th, 2019"
   ]
  },
  {
   "cell_type": "markdown",
   "metadata": {},
   "source": [
    "### Description\n",
    "This Python script was developed using *Python 3*. It was written to:\n",
    "1. translate a myhtocondrial dna sequence from a *fasta* file into amino acids sequence,\n",
    "2. determine the molecular weight of the amino acid sequence,\n",
    "3. compute the GC-content of the dna sequence and,\n",
    "4. conduct basic exploratory data analysis unsing barplot and scatterplot."
   ]
  },
  {
   "cell_type": "markdown",
   "metadata": {},
   "source": [
    "### Dependencies\n",
    "1. For this script to work properly, we need to first install *biopython* ideally from the command line by typing: ``pip install biopython``\n",
    "2. Next, we neeed to load a few modules from Biopython(see below)\n",
    "3. And finally, we need to load two Python packages *pandas* and *numpy* (see below)\n",
    "    *Note: If any of these packages is not intalled, you should first do *pip install package_name*"
   ]
  },
  {
   "cell_type": "code",
   "execution_count": 1,
   "metadata": {},
   "outputs": [],
   "source": [
    "#Modules and submodules from biopython\n",
    "from Bio import SeqIO\n",
    "from Bio.Data import CodonTable\n",
    "from Bio.Alphabet import generic_dna\n",
    "from Bio.Seq import Seq\n",
    "from Bio.SeqUtils.ProtParam import ProteinAnalysis\n",
    "\n",
    "#Python packages\n",
    "import pandas as pd\n",
    "import numpy as np"
   ]
  },
  {
   "cell_type": "markdown",
   "metadata": {},
   "source": [
    "### Funtion \"get_sequences_from_file\"\n",
    "    **Description:** This function helps to retrieve dna sequence from a fasta file.\n",
    "    **Input:** a fasta file\n",
    "    **Output:** A dictionnary with species_name as key and the corresponding dna sequence as its value."
   ]
  },
  {
   "cell_type": "code",
   "execution_count": 2,
   "metadata": {},
   "outputs": [],
   "source": [
    "def get_sequences_from_file(fasta_fn):\n",
    "    sequence_data_dict = {}\n",
    "    for record in SeqIO.parse(fasta_fn, \"fasta\"):\n",
    "        description = record.description.split()\n",
    "        species_name = description[1] + \" \" + description[2]\n",
    "        sequence_data_dict[species_name] = record.seq\n",
    "    return(sequence_data_dict)"
   ]
  },
  {
   "cell_type": "markdown",
   "metadata": {},
   "source": [
    "### Funtion \"translate_function\"\n",
    "    **Description:** This function translates a mitochondrial dna sequence into amino acid sequence.\n",
    "    **Input:** a string of dna sequence\n",
    "    **Output:** a list of amino acid sequence.\n",
    "    Note: this code is written to terminate translation at the first stop codon."
   ]
  },
  {
   "cell_type": "code",
   "execution_count": 3,
   "metadata": {},
   "outputs": [],
   "source": [
    "def translate_function(string_nucleotides): \n",
    "    mito_table = CodonTable.unambiguous_dna_by_name[\"Vertebrate Mitochondrial\"]\n",
    "    aa_seq_string = \"\"\n",
    "    index = 0\n",
    "    \n",
    "    for pos in range(0, len(string_nucleotides)//3):\n",
    "        codon = string_nucleotides[index:index+3]\n",
    "        index += 3\n",
    "        \n",
    "        if codon == \"TAA\" or codon == \"TAG\" or codon == \"AGA\" or codon == \"AGG\":\n",
    "            break\n",
    "        else:\n",
    "            aa = mito_table.forward_table[codon]\n",
    "            aa_seq_string = aa_seq_string + aa\n",
    "            \n",
    "    return(aa_seq_string)"
   ]
  },
  {
   "cell_type": "code",
   "execution_count": 4,
   "metadata": {},
   "outputs": [
    {
     "name": "stdout",
     "output_type": "stream",
     "text": [
      "Table 2 Vertebrate Mitochondrial, SGC1\n",
      "\n",
      "  |  T      |  C      |  A      |  G      |\n",
      "--+---------+---------+---------+---------+--\n",
      "T | TTT F   | TCT S   | TAT Y   | TGT C   | T\n",
      "T | TTC F   | TCC S   | TAC Y   | TGC C   | C\n",
      "T | TTA L   | TCA S   | TAA Stop| TGA W   | A\n",
      "T | TTG L   | TCG S   | TAG Stop| TGG W   | G\n",
      "--+---------+---------+---------+---------+--\n",
      "C | CTT L   | CCT P   | CAT H   | CGT R   | T\n",
      "C | CTC L   | CCC P   | CAC H   | CGC R   | C\n",
      "C | CTA L   | CCA P   | CAA Q   | CGA R   | A\n",
      "C | CTG L   | CCG P   | CAG Q   | CGG R   | G\n",
      "--+---------+---------+---------+---------+--\n",
      "A | ATT I(s)| ACT T   | AAT N   | AGT S   | T\n",
      "A | ATC I(s)| ACC T   | AAC N   | AGC S   | C\n",
      "A | ATA M(s)| ACA T   | AAA K   | AGA Stop| A\n",
      "A | ATG M(s)| ACG T   | AAG K   | AGG Stop| G\n",
      "--+---------+---------+---------+---------+--\n",
      "G | GTT V   | GCT A   | GAT D   | GGT G   | T\n",
      "G | GTC V   | GCC A   | GAC D   | GGC G   | C\n",
      "G | GTA V   | GCA A   | GAA E   | GGA G   | A\n",
      "G | GTG V(s)| GCG A   | GAG E   | GGG G   | G\n",
      "--+---------+---------+---------+---------+--\n"
     ]
    }
   ],
   "source": [
    "# As a checkpoint, I printed the codon table for confirmation\n",
    "Table = CodonTable.unambiguous_dna_by_name[\"Vertebrate Mitochondrial\"]\n",
    "print(Table)"
   ]
  },
  {
   "cell_type": "markdown",
   "metadata": {},
   "source": [
    "### Funtion \"alternative_translation\"\n",
    "    **Description:** This function translates a mitochondrial dna sequence into amino acid sequence.\n",
    "    **Input:** a string of dna sequence\n",
    "    **Output:** a string of amino acid sequence\n",
    "    Note: this code is written to terminate translation at the first stop codon."
   ]
  },
  {
   "cell_type": "code",
   "execution_count": 5,
   "metadata": {},
   "outputs": [],
   "source": [
    "def alternative_translation(dna_seq):\n",
    "    sequence = Seq(str(dna_seq), generic_dna)\n",
    "    aa_seq = sequence.translate(table = 2, to_stop = True)\n",
    "    aa_seq_string = str(aa_seq)\n",
    "    return(aa_seq_string)"
   ]
  },
  {
   "cell_type": "markdown",
   "metadata": {},
   "source": [
    "### Funtion \"compute_molecular_weight\"\n",
    "    **Description:** This function computes the molecular weight of a sequence of amino acids.\n",
    "    **Input:** a string of amino acid sequence\n",
    "    **Output:** molecular weight as a double"
   ]
  },
  {
   "cell_type": "code",
   "execution_count": 6,
   "metadata": {},
   "outputs": [],
   "source": [
    "def compute_molecular_weight(aa_seq):\n",
    "    analyzed_seq = ProteinAnalysis(str(aa_seq))\n",
    "    m_weight= analyzed_seq.molecular_weight()\n",
    "    return(m_weight)"
   ]
  },
  {
   "cell_type": "markdown",
   "metadata": {},
   "source": [
    "### Funtion \"gc_content\"\n",
    "    **Description:** This function computes the proportion of G and C nucleotides in a dna sequence.\n",
    "    **Input:** a string of dna sequence\n",
    "    **Output:** proportion of G and C as a *double*."
   ]
  },
  {
   "cell_type": "code",
   "execution_count": 7,
   "metadata": {},
   "outputs": [],
   "source": [
    "def gc_content(dna_seq):\n",
    "    count = dna_seq.count(\"G\") + dna_seq.count(\"C\")\n",
    "    gc = 100 * count / len(dna_seq)\n",
    "    return(gc)"
   ]
  },
  {
   "cell_type": "markdown",
   "metadata": {},
   "source": [
    "Retrieve the dna sequence from the fasta file *penguins_cytb.fasta* to cytb_seqs dictionnary.\n",
    "Import the dataframe \"penguins_mass.csv\" using *pandas*"
   ]
  },
  {
   "cell_type": "code",
   "execution_count": 8,
   "metadata": {},
   "outputs": [],
   "source": [
    "cytb_seqs = get_sequences_from_file(\"penguins_cytb.fasta\")\n",
    "penguins_df = pd.read_csv(\"penguins_mass.csv\")\n",
    "species_list = list(penguins_df.species) #Create a list of species names."
   ]
  },
  {
   "cell_type": "markdown",
   "metadata": {},
   "source": [
    "Here, I added two new columns to the *penguins_df* named \"Molecular_weight\" and \"GC_content\", and used the package **Numpy** to fill them in with NANs that stand for missiing values."
   ]
  },
  {
   "cell_type": "code",
   "execution_count": 10,
   "metadata": {},
   "outputs": [],
   "source": [
    "import numpy as np"
   ]
  },
  {
   "cell_type": "markdown",
   "metadata": {},
   "source": [
    "The code below is looping over the *cytb_seqs* dictionnary and:\n",
    "    1. translate dna sequence of each species\n",
    "    2. compute the molecular weight of the species' amino acid sequence\n",
    "    3. compute the GC content of the species' dna sequence\n",
    "    4. Add the values of molecular weight and GC content to the *table penguins_df*"
   ]
  },
  {
   "cell_type": "code",
   "execution_count": 33,
   "metadata": {},
   "outputs": [],
   "source": [
    "for key, value in cytb_seqs.items():\n",
    "    aa_seq = alternative_translation(value)\n",
    "    mol_weight = compute_molecular_weight(aa_seq)\n",
    "    gc_cont = gc_content(value)\n",
    "    penguins_df.loc[penguins_df.species == key, 'Molecular_weight'] = mol_weight\n",
    "    penguins_df.loc[penguins_df.species == key, 'GC_content'] = gc_cont"
   ]
  },
  {
   "cell_type": "code",
   "execution_count": 13,
   "metadata": {},
   "outputs": [],
   "source": [
    "#To ensure that my plot will be displayed in Jupiter Notebook, I will call matplotlib.\n",
    "%matplotlib inline"
   ]
  },
  {
   "cell_type": "code",
   "execution_count": 31,
   "metadata": {},
   "outputs": [
    {
     "data": {
      "text/plain": [
       "<matplotlib.axes._subplots.AxesSubplot at 0x18f3d56e908>"
      ]
     },
     "execution_count": 31,
     "metadata": {},
     "output_type": "execute_result"
    },
    {
     "data": {
      "image/png": "[encoded data removed]",
      "text/plain": [
       "<Figure size 432x288 with 1 Axes>"
      ]
     },
     "metadata": {
      "needs_background": "light"
     },
     "output_type": "display_data"
    }
   ],
   "source": [
    "# Barplot of the mass of each species\n",
    "penguins_df.plot(x = \"species\", y = \"mass\", kind = \"bar\", color = \"blue\",\n",
    "                 title = \"Barplot of the mass of each species\")\n"
   ]
  },
  {
   "cell_type": "markdown",
   "metadata": {},
   "source": [
    "Response:  \n",
    "    Q1: Based on the body mass, the smallest penguin species is *Eudyptula minor*  \n",
    "    Q2: The interessing thing about it is that, it looks so pretty and very short about 33 cm."
   ]
  },
  {
   "cell_type": "code",
   "execution_count": 71,
   "metadata": {},
   "outputs": [
    {
     "data": {
      "text/plain": [
       "<matplotlib.axes._subplots.AxesSubplot at 0x18f3d871320>"
      ]
     },
     "execution_count": 71,
     "metadata": {},
     "output_type": "execute_result"
    },
    {
     "data": {
      "image/png": "[encoded data removed]",
      "text/plain": [
       "<Figure size 432x288 with 1 Axes>"
      ]
     },
     "metadata": {
      "needs_background": "light"
     },
     "output_type": "display_data"
    }
   ],
   "source": [
    "# Scatterplot to observ the linear relationship of Molecular weight and GC content per species.\n",
    "penguins_df.plot(x= \"Molecular_weight\", y = \"GC_content\", kind = \"scatter\",\n",
    "                title = \"Linear relationship betweeen Molecular weight and GC_content\")"
   ]
  },
  {
   "cell_type": "markdown",
   "metadata": {},
   "source": [
    "Ouptupt the final dataframe in a comma-separated file *penguins_mass_cytb.csv* using pandas."
   ]
  },
  {
   "cell_type": "code",
   "execution_count": 17,
   "metadata": {},
   "outputs": [],
   "source": [
    "penguins_df.to_csv(\"penguins_mass_cytb.csv\")"
   ]
  },
  {
   "cell_type": "markdown",
   "metadata": {},
   "source": [
    "For the bonus point, I plotted the barplot of the molecular weight and a scatterplot for the relationship between molecular weight and mass of each species."
   ]
  },
  {
   "cell_type": "code",
   "execution_count": 19,
   "metadata": {},
   "outputs": [
    {
     "data": {
      "text/plain": [
       "<matplotlib.axes._subplots.AxesSubplot at 0x18f3cabb1d0>"
      ]
     },
     "execution_count": 19,
     "metadata": {},
     "output_type": "execute_result"
    },
    {
     "data": {
      "image/png": "[encoded data removed]",
      "text/plain": [
       "<Figure size 432x288 with 1 Axes>"
      ]
     },
     "metadata": {
      "needs_background": "light"
     },
     "output_type": "display_data"
    }
   ],
   "source": [
    "# Barplot of the GC content of each species\n",
    "penguins_df.plot(x = \"species\", y = \"GC_content\", kind = \"bar\", color = \"salmon\",\n",
    "                 title = \"Barplot of the GC-content of each species\")"
   ]
  },
  {
   "cell_type": "code",
   "execution_count": 72,
   "metadata": {},
   "outputs": [
    {
     "data": {
      "text/plain": [
       "<matplotlib.axes._subplots.AxesSubplot at 0x18f3d871240>"
      ]
     },
     "execution_count": 72,
     "metadata": {},
     "output_type": "execute_result"
    },
    {
     "data": {
      "image/png": "[encoded data removed]",
      "text/plain": [
       "<Figure size 432x288 with 1 Axes>"
      ]
     },
     "metadata": {
      "needs_background": "light"
     },
     "output_type": "display_data"
    }
   ],
   "source": [
    "# Scatterplot to observ the linear relationship of Molecular weight and mass per species.\n",
    "penguins_df.plot(x= \"Molecular_weight\", y = \"mass\", kind = \"scatter\",\n",
    "                title = \"Linear relationship betweeen Molecular weight and mass\")"
   ]
  },
  {
   "cell_type": "markdown",
   "metadata": {},
   "source": [
    "##### References  \n",
    "    https://biopython.org/wiki/Seq  \n",
    "    https://biopython.org/DIST/docs/api/Bio.Seq-module.html  \n",
    "    https://eeob-biodata.github.io/BCB546X-python/"
   ]
  }
 ],
 "metadata": {
  "kernelspec": {
   "display_name": "Python 3",
   "language": "python",
   "name": "python3"
  },
  "language_info": {
   "codemirror_mode": {
    "name": "ipython",
    "version": 3
   },
   "file_extension": ".py",
   "mimetype": "text/x-python",
   "name": "python",
   "nbconvert_exporter": "python",
   "pygments_lexer": "ipython3",
   "version": "3.7.0"
  }
 },
 "nbformat": 4,
 "nbformat_minor": 2
}
